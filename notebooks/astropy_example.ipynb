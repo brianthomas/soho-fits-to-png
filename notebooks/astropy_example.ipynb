{
 "cells": [
  {
   "cell_type": "markdown",
   "metadata": {},
   "source": [
    "# Conversion of FITS image to PNG example"
   ]
  },
  {
   "cell_type": "code",
   "execution_count": null,
   "metadata": {
    "ExecuteTime": {
     "end_time": "2020-11-04T19:08:15.406893Z",
     "start_time": "2020-11-04T19:08:15.401602Z"
    }
   },
   "outputs": [],
   "source": [
    "# https://docs.astropy.org/en/stable/generated/examples/io/plot_fits-image.html\n",
    "import matplotlib.pyplot as plt\n",
    "import numpy as np\n",
    "from PIL import Image\n",
    "\n",
    "# Astropy library - pip install astropy worked for me with and Open-CE build\n",
    "from astropy.utils.data import get_pkg_data_filename\n",
    "from astropy.io import fits\n",
    "from astropy.visualization import astropy_mpl_style\n",
    "plt.style.use(astropy_mpl_style)\n",
    "\n",
    "import os\n",
    "import re\n",
    "import os.path\n"
   ]
  },
  {
   "cell_type": "markdown",
   "metadata": {},
   "source": [
    "## Project Configurations"
   ]
  },
  {
   "cell_type": "code",
   "execution_count": null,
   "metadata": {
    "ExecuteTime": {
     "end_time": "2020-11-04T19:08:39.421368Z",
     "start_time": "2020-11-04T19:08:39.418759Z"
    }
   },
   "outputs": [],
   "source": [
    "# project config\n",
    "cfg = {\n",
    "    \"image_path\" : \"/gpfs/home/b0p154/b0p154al/data\",\n",
    "    \"output_path\" : \"/gpfs/home/s4s004/vanstee/2020-11-nasa/dataout\",\n",
    "    \"classes\" : [\"cme_events\", \"non_cme_events\"]\n",
    "}"
   ]
  },
  {
   "cell_type": "code",
   "execution_count": null,
   "metadata": {
    "ExecuteTime": {
     "end_time": "2020-11-04T19:08:40.086850Z",
     "start_time": "2020-11-04T19:08:39.928896Z"
    }
   },
   "outputs": [],
   "source": [
    "!ls /gpfs/home/b0p154/b0p154al/data/non_cme_events"
   ]
  },
  {
   "cell_type": "markdown",
   "metadata": {},
   "source": [
    "## Build Fits.gz image list"
   ]
  },
  {
   "cell_type": "code",
   "execution_count": null,
   "metadata": {
    "ExecuteTime": {
     "end_time": "2020-11-04T19:09:14.266786Z",
     "start_time": "2020-11-04T19:09:12.777681Z"
    }
   },
   "outputs": [],
   "source": [
    "# Lets build a comprehensive image list\n",
    "\n",
    "gz_files = []# [None]*10000\n",
    "\n",
    "def isgzip(f):\n",
    "    if ((re.search('gz$',f)) and os.path.isfile(fname)):\n",
    "        return True\n",
    "    else :\n",
    "        return False\n",
    "\n",
    "for root, dirs, files in os.walk(cfg['image_path']):\n",
    "    for f in files:\n",
    "        fname = os.path.join(root, f)\n",
    "        if isgzip(fname):\n",
    "            gz_files.append(fname)\n",
    "\n",
    "print(\"Found {} fits image files\".format(len(gz_files)))\n",
    "print(\"Example file:  {}\".format(gz_files[0]))"
   ]
  },
  {
   "cell_type": "markdown",
   "metadata": {},
   "source": [
    "## Utility functions to \n",
    "* get numpy data from fits image\n",
    "* display fits data\n",
    "* save fits rendering as a png file"
   ]
  },
  {
   "cell_type": "code",
   "execution_count": null,
   "metadata": {
    "ExecuteTime": {
     "end_time": "2020-11-04T19:10:10.904053Z",
     "start_time": "2020-11-04T19:10:10.893401Z"
    }
   },
   "outputs": [],
   "source": [
    "# returns numpy data array\n",
    "def get_numpy_data(file_name):\n",
    "    try :\n",
    "        image_file = get_pkg_data_filename(file_name)\n",
    "        print(fits.info(image_file))\n",
    "        image_data = fits.getdata(image_file, ext=0,)\n",
    "        print(\"Image Shape : \", image_data.shape)\n",
    "    except :\n",
    "        print(\"Error opening file {}\".format(file_name))\n",
    "        image_data = None\n",
    "    return image_data\n",
    "\n",
    "def display_image(image_data) :\n",
    "    if(image_data is not None) :\n",
    "        plt.figure()\n",
    "        plt.imshow(image_data, cmap='magma',interpolation=\"bicubic\")\n",
    "        plt.colorbar()  \n",
    "    else :\n",
    "        print(\"Image data not read from fits file.  Possibly malformed\")\n",
    "def create_png(image_data, outdir=\"/tmp\", fileout=\"test.png\") :\n",
    "    if(image_data is not None) :\n",
    "        print(\"writing file {} to directory {}\".format(fileout, outdir))\n",
    "        outfile = \"/\".join([outdir,fileout])\n",
    "        plt.figure()\n",
    "        plt.imsave(outfile, image_data, cmap='magma')\n",
    "        print(\"wrote file to {}\".format(outfile))\n",
    "    #else :\n",
    "    #    print(\"Malformed image data, not running\")\n",
    "\n"
   ]
  },
  {
   "cell_type": "markdown",
   "metadata": {},
   "source": [
    "## Example of display image"
   ]
  },
  {
   "cell_type": "code",
   "execution_count": null,
   "metadata": {
    "ExecuteTime": {
     "end_time": "2020-11-04T19:10:13.493178Z",
     "start_time": "2020-11-04T19:10:12.729545Z"
    }
   },
   "outputs": [],
   "source": [
    "img_data= get_numpy_data(gz_files[0])\n",
    "display_image(img_data)"
   ]
  },
  {
   "cell_type": "code",
   "execution_count": null,
   "metadata": {
    "ExecuteTime": {
     "end_time": "2020-11-04T19:11:11.258260Z",
     "start_time": "2020-11-04T19:11:11.254387Z"
    }
   },
   "outputs": [],
   "source": [
    "gz_files[0]"
   ]
  },
  {
   "cell_type": "markdown",
   "metadata": {},
   "source": [
    "## Example of image Save"
   ]
  },
  {
   "cell_type": "code",
   "execution_count": null,
   "metadata": {
    "ExecuteTime": {
     "end_time": "2020-11-04T19:12:21.574075Z",
     "start_time": "2020-11-04T19:12:21.565823Z"
    }
   },
   "outputs": [],
   "source": [
    "\n",
    "# For now just grab filename and \n",
    "import pathlib\n",
    "def create_output_filename(cfg,file_in) :\n",
    "    p = pathlib.Path(file_in)\n",
    "    \n",
    "    f_fts = p.stem\n",
    "    # grab two parent directories above (just based on inspection.  add to filename for debug and traceabiltily)\n",
    "    parent_info = str(p.parent).split('/')\n",
    "    parent_info = parent_info[-2:len(parent_info)]\n",
    "    parent_info = \"_\".join(parent_info)\n",
    "    \n",
    "    file_out = \"_\".join([parent_info,str(f_fts)]) \n",
    "    file_out = file_out + \".png\"\n",
    "    return file_out\n",
    "\n",
    "# Test \n",
    "out_filename = create_output_filename(cfg, gz_files[0])\n",
    "out_filename"
   ]
  },
  {
   "cell_type": "code",
   "execution_count": null,
   "metadata": {
    "ExecuteTime": {
     "end_time": "2020-11-04T19:12:37.400185Z",
     "start_time": "2020-11-04T19:12:37.131992Z"
    }
   },
   "outputs": [],
   "source": [
    "# !rm -rf /gpfs/home/s4s004/vanstee/2020-11-nasa/dataout\n",
    "! mkdir -p /gpfs/home/s4s004/vanstee/2020-11-nasa/dataout/cme_events\n",
    "! mkdir -p /gpfs/home/s4s004/vanstee/2020-11-nasa/dataout/non_cme_events"
   ]
  },
  {
   "cell_type": "code",
   "execution_count": null,
   "metadata": {
    "ExecuteTime": {
     "end_time": "2020-11-04T19:12:48.207182Z",
     "start_time": "2020-11-04T19:12:47.909742Z"
    }
   },
   "outputs": [],
   "source": [
    "# Single Inspection !\n",
    "#test_file_name = \"/gpfs/home/b0p154/b0p154al/data/cme_events/140613/c2/25506960.fts.gz\"\n",
    "test_file_name = gz_files[0]\n",
    "\n",
    "cme_class=\"cme_events\"\n",
    "img_data = get_numpy_data(test_file_name)\n",
    "# print(img_data)\n",
    "# display_image(img_data)\n",
    "out_filename = create_output_filename(cfg, test_file_name)\n",
    "create_png(img_data, outdir=cfg[\"output_path\"]+\"/\"+cme_class, fileout=out_filename)"
   ]
  },
  {
   "cell_type": "code",
   "execution_count": null,
   "metadata": {},
   "outputs": [],
   "source": [
    "# If i get time maybe make a grid of these using random numbers to spot check ..\n",
    "# fig = plt.figure()\n",
    "# ax1 = fig.add_subplot(2,2,1)\n",
    "# ax1.imshow(...)\n",
    "# ax2 = fig.add_subplot(2,2,2)\n",
    "# ax2.imshow(...)\n",
    "# ax3 = fig.add_subplot(2,2,3)\n",
    "# ax3.imshow(...)\n",
    "# ax4 = fig.add_subplot(2,2,4)\n",
    "# ax4.imshow(...)"
   ]
  },
  {
   "cell_type": "markdown",
   "metadata": {
    "ExecuteTime": {
     "end_time": "2020-11-04T16:33:05.032209Z",
     "start_time": "2020-11-04T16:33:05.030011Z"
    }
   },
   "source": [
    "## Process files in parallel with dask "
   ]
  },
  {
   "cell_type": "code",
   "execution_count": null,
   "metadata": {
    "ExecuteTime": {
     "end_time": "2020-11-04T19:14:02.642308Z",
     "start_time": "2020-11-04T19:14:02.474585Z"
    }
   },
   "outputs": [],
   "source": [
    "import dask\n",
    "\n",
    "# This function will be run in parallel ...\n",
    "def process_file(cfg, cme_class, file) :\n",
    "    rv = 0\n",
    "    img_data = get_numpy_data(file)\n",
    "    if(img_data is not None) :\n",
    "        out_filename = create_output_filename(cfg, file)\n",
    "        create_png(img_data, outdir=cfg[\"output_path\"]+\"/\"+cme_class, fileout=out_filename)   \n",
    "        rv = 1\n",
    "        \n",
    "    return rv\n",
    "    \n",
    "# Here we use dask to parallelize the convesion process \n",
    "# dask_create_png\n",
    "from dask import delayed\n",
    "def process_files(cfg, file_limit):\n",
    "    \n",
    "    ncme_cnt=0\n",
    "    cme_cnt=0\n",
    "    dask_processing_list = []\n",
    "    for f in gz_files :\n",
    "        # Does filename ma\n",
    "        if (re.search(\"non_cme_events\", f) and ncme_cnt < file_limit) :\n",
    "            print(\"Processing non_cme_event {}\".format(f))\n",
    "            dask_processing_list.append(delayed(process_file)(cfg, \"non_cme_events\", f))\n",
    "            ncme_cnt +=1\n",
    "        elif (not(re.search(\"non_cme_events\", f)) and cme_cnt < file_limit):\n",
    "            print(\"Processing non_cme_event {}\".format(f))\n",
    "            dask_processing_list.append(delayed(process_file)(cfg, \"cme_events\", f))\n",
    "            cme_cnt +=1\n",
    "        \n",
    "        if (ncme_cnt >= file_limit and cme_cnt >= file_limit) :\n",
    "            break\n",
    "            \n",
    "    return dask_processing_list\n",
    "    \n",
    "# Single Inspection !\n",
    "delayed_processing = process_files(cfg, 100 )"
   ]
  },
  {
   "cell_type": "markdown",
   "metadata": {},
   "source": [
    "### Trigger dask events"
   ]
  },
  {
   "cell_type": "code",
   "execution_count": null,
   "metadata": {
    "ExecuteTime": {
     "end_time": "2020-11-04T19:14:28.739931Z",
     "start_time": "2020-11-04T19:14:17.645358Z"
    }
   },
   "outputs": [],
   "source": [
    "delayed_processing_sum = sum(delayed_processing)\n",
    "delayed_processing_sum.compute()"
   ]
  },
  {
   "cell_type": "markdown",
   "metadata": {},
   "source": [
    "### Spot Check Results"
   ]
  },
  {
   "cell_type": "code",
   "execution_count": null,
   "metadata": {
    "ExecuteTime": {
     "end_time": "2020-11-04T19:15:41.306251Z",
     "start_time": "2020-11-04T19:15:41.003232Z"
    }
   },
   "outputs": [],
   "source": [
    "print(cfg['output_path'])\n",
    "! ls {cfg['output_path']}/non_cme_events | wc\n",
    "! ls {cfg['output_path']}/cme_events | wc"
   ]
  },
  {
   "cell_type": "markdown",
   "metadata": {},
   "source": [
    "# Import Images into Maximo Visual Insights"
   ]
  },
  {
   "cell_type": "code",
   "execution_count": null,
   "metadata": {
    "ExecuteTime": {
     "end_time": "2020-11-04T19:19:45.913593Z",
     "start_time": "2020-11-04T19:19:45.910061Z"
    }
   },
   "outputs": [],
   "source": [
    "import json\n",
    "import sys\n",
    "import logging as logger\n",
    "import glob\n",
    "import os\n",
    "sys.path.append('/gpfs/home/s4s004/vanstee/2020-11-nasa/vision-tools/lib')\n",
    "import vapi\n"
   ]
  },
  {
   "cell_type": "markdown",
   "metadata": {},
   "source": [
    "## Authenticate to server"
   ]
  },
  {
   "cell_type": "code",
   "execution_count": null,
   "metadata": {
    "ExecuteTime": {
     "end_time": "2020-11-04T17:55:45.678898Z",
     "start_time": "2020-11-04T17:55:45.676729Z"
    }
   },
   "outputs": [],
   "source": [
    "# for this to work, you need to export PYTHONPATH prior to opening this notebook !\n",
    "# in mvi_env.sh\n",
    "# PATH=$PATH:~/2020-11-nasa/vision-tools/cli\n",
    "# export PYTHONPATH=$PYTHONPATH:~/2020-11-nasa/vision-tools/lib\n",
    "# export VAPI_HOST=129.40.48.4\n",
    "# export VAPI_INSTANCE=visual-inspection\n",
    "# export VAPI_TOKEN=`vision user token --user zhang  --password passw0rd`\n",
    "# vision datasets list --summary"
   ]
  },
  {
   "cell_type": "code",
   "execution_count": null,
   "metadata": {
    "ExecuteTime": {
     "end_time": "2020-11-04T19:18:56.698483Z",
     "start_time": "2020-11-04T19:18:56.251783Z"
    }
   },
   "outputs": [],
   "source": [
    "!vision datasets list --summary"
   ]
  },
  {
   "cell_type": "code",
   "execution_count": null,
   "metadata": {
    "ExecuteTime": {
     "end_time": "2020-11-04T19:20:06.220271Z",
     "start_time": "2020-11-04T19:20:06.062375Z"
    }
   },
   "outputs": [],
   "source": [
    "server = vapi.connect_to_server(host=\"129.40.48.4\", token=\"\", instance=\"visual-inspection\")\n",
    "token_json = server.users.get_token(\"zhang\", \"passw0rd\")#insert username and password here\n",
    "print(token_json)"
   ]
  },
  {
   "cell_type": "code",
   "execution_count": null,
   "metadata": {
    "ExecuteTime": {
     "end_time": "2020-11-04T19:20:20.529553Z",
     "start_time": "2020-11-04T19:20:20.526396Z"
    }
   },
   "outputs": [],
   "source": [
    "token = token_json[\"token\"]\n",
    "server = vapi.connect_to_server(host=\"129.40.48.4\", token=token, instance=\"visual-inspection\")\n"
   ]
  },
  {
   "cell_type": "markdown",
   "metadata": {},
   "source": [
    "## Get png file names"
   ]
  },
  {
   "cell_type": "code",
   "execution_count": null,
   "metadata": {
    "ExecuteTime": {
     "end_time": "2020-11-04T19:21:42.556708Z",
     "start_time": "2020-11-04T19:21:42.552308Z"
    }
   },
   "outputs": [],
   "source": [
    "png_files = glob.glob(cfg['output_path']+\"/cme_events/*png\")\n",
    "print(\"Found {} png files\".format(len(png_files)))"
   ]
  },
  {
   "cell_type": "code",
   "execution_count": null,
   "metadata": {
    "ExecuteTime": {
     "end_time": "2020-11-04T19:21:09.248934Z",
     "start_time": "2020-11-04T19:21:08.794537Z"
    }
   },
   "outputs": [],
   "source": [
    "# Get DSID manually for now\n",
    "!vision datasets list --summary"
   ]
  },
  {
   "cell_type": "code",
   "execution_count": null,
   "metadata": {
    "ExecuteTime": {
     "end_time": "2020-11-04T19:22:19.076893Z",
     "start_time": "2020-11-04T19:21:54.894864Z"
    }
   },
   "outputs": [],
   "source": [
    "# This loops the file names in the array through the upload function\n",
    "# There is a potential to use Dask here to speed up the upload to max of MVI system http handler\n",
    "# .. leave for now\n",
    "\n",
    "for i,file in enumerate(png_files):\n",
    "    server.files.upload(dsid=\"cde180b8-a59e-470b-bcc2-46ce09f7e377\", file_paths=[file])\n",
    "    if(i%10) == 0: print(\"Uploaded {} files\".format(i))\n"
   ]
  },
  {
   "cell_type": "code",
   "execution_count": null,
   "metadata": {
    "ExecuteTime": {
     "end_time": "2020-11-04T18:02:59.548971Z",
     "start_time": "2020-11-04T18:02:59.543815Z"
    }
   },
   "outputs": [],
   "source": [
    "if server.rsp_ok():\n",
    "    # Pretty print the details\n",
    "    # print(json.dumps(server.json(), indent=2))\n",
    "    # Show details about the dataset passed in.\n",
    "    print(json.dumps(server.json(), indent=2))\n",
    "else:\n",
    "    # Something went wrong. Show the status code.\n",
    "    # All of visual-inspections failure messages should be in json, so pretty print that\n",
    "    print(f\"Request failed with code {server.status_code()}\", file=sys.stderr)\n",
    "    print(json.dumps(server.json(), indent=2), file=sys.stderr)\n",
    "\n"
   ]
  },
  {
   "cell_type": "code",
   "execution_count": null,
   "metadata": {},
   "outputs": [],
   "source": []
  }
 ],
 "metadata": {
  "kernelspec": {
   "display_name": "Python 3",
   "language": "python",
   "name": "python3"
  },
  "language_info": {
   "codemirror_mode": {
    "name": "ipython",
    "version": 3
   },
   "file_extension": ".py",
   "mimetype": "text/x-python",
   "name": "python",
   "nbconvert_exporter": "python",
   "pygments_lexer": "ipython3",
   "version": "3.8.6"
  },
  "toc": {
   "base_numbering": 1,
   "nav_menu": {},
   "number_sections": true,
   "sideBar": true,
   "skip_h1_title": false,
   "title_cell": "Table of Contents",
   "title_sidebar": "Contents",
   "toc_cell": false,
   "toc_position": {},
   "toc_section_display": true,
   "toc_window_display": true
  },
  "varInspector": {
   "cols": {
    "lenName": 16,
    "lenType": 16,
    "lenVar": 40
   },
   "kernels_config": {
    "python": {
     "delete_cmd_postfix": "",
     "delete_cmd_prefix": "del ",
     "library": "var_list.py",
     "varRefreshCmd": "print(var_dic_list())"
    },
    "r": {
     "delete_cmd_postfix": ") ",
     "delete_cmd_prefix": "rm(",
     "library": "var_list.r",
     "varRefreshCmd": "cat(var_dic_list()) "
    }
   },
   "types_to_exclude": [
    "module",
    "function",
    "builtin_function_or_method",
    "instance",
    "_Feature"
   ],
   "window_display": false
  }
 },
 "nbformat": 4,
 "nbformat_minor": 4
}
